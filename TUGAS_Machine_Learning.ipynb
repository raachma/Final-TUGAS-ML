{
  "metadata": {
    "kernelspec": {
      "language": "python",
      "display_name": "Python 3",
      "name": "python3"
    },
    "language_info": {
      "pygments_lexer": "ipython3",
      "nbconvert_exporter": "python",
      "version": "3.6.4",
      "file_extension": ".py",
      "codemirror_mode": {
        "name": "ipython",
        "version": 3
      },
      "name": "python",
      "mimetype": "text/x-python"
    },
    "colab": {
      "provenance": [],
      "collapsed_sections": [
        "_2qxnTp2qFB0",
        "sCm-wDL7qFB_",
        "F8rhK3yQqFCC",
        "DpfOL8MvqFCE",
        "sLeOYhcfqFCG",
        "MDvQ7eh1qFCI",
        "HTHRwqpIqFCJ"
      ]
    }
  },
  "nbformat_minor": 0,
  "nbformat": 4,
  "cells": [
    {
      "cell_type": "markdown",
      "source": [
        "#Hotel Booking (Logistic Regretion)\n",
        "Nama : Rahmaliyah Kadir\n",
        "\n",
        "Nim : H071201093"
      ],
      "metadata": {
        "id": "LjpPS3J7rB35"
      }
    },
    {
      "cell_type": "markdown",
      "source": [
        "#Menggunakan regresi logistik dalam dataset pemesanan hotel untuk menentukan orang-orang yang kemungkinan akan membatalkan reservasi mereka"
      ],
      "metadata": {
        "id": "_2qxnTp2qFB0"
      }
    },
    {
      "cell_type": "code",
      "source": [
        "# Sambung ke google drive \n",
        "from google.colab import drive\n",
        "drive.mount('/content/drive')"
      ],
      "metadata": {
        "colab": {
          "base_uri": "https://localhost:8080/"
        },
        "id": "Wm0FBaBBqvx0",
        "outputId": "2079e540-f966-4763-b55e-cee1f563a16a"
      },
      "execution_count": 1,
      "outputs": [
        {
          "output_type": "stream",
          "name": "stdout",
          "text": [
            "Mounted at /content/drive\n"
          ]
        }
      ]
    },
    {
      "cell_type": "code",
      "source": [
        "#Mengimpor dan membaca data Untuk mengakses data, yang tersedia dalam CSV, dan memanipulasinya lebih jauh.\n",
        "\n",
        "import numpy as np\n",
        "import pandas as pd\n",
        "import matplotlib.pyplot as plt\n",
        "import seaborn as sns\n",
        "from sklearn.preprocessing import StandardScaler\n",
        "from sklearn.metrics import confusion_matrix\n",
        "from sklearn.linear_model import LogisticRegression\n",
        "from sklearn.metrics import accuracy_score, confusion_matrix, classification_report, plot_confusion_matrix\n",
        "from sklearn.model_selection import train_test_split\n",
        "from sklearn.metrics import precision_recall_curve, plot_precision_recall_curve, plot_roc_curve\n",
        "import warnings\n",
        "warnings.filterwarnings(\"ignore\")"
      ],
      "metadata": {
        "execution": {
          "iopub.status.busy": "2022-02-12T08:01:21.565265Z",
          "iopub.execute_input": "2022-02-12T08:01:21.565622Z",
          "iopub.status.idle": "2022-02-12T08:01:21.575498Z",
          "shell.execute_reply.started": "2022-02-12T08:01:21.565593Z",
          "shell.execute_reply": "2022-02-12T08:01:21.574616Z"
        },
        "trusted": true,
        "id": "TrQj4R0oqFB7"
      },
      "execution_count": 2,
      "outputs": []
    },
    {
      "cell_type": "code",
      "source": [
        "# Mengimport dataset\n",
        "\n",
        "data = pd.read_csv(\"/content/drive/MyDrive/Machine Learning/hotel_booking.csv\")"
      ],
      "metadata": {
        "execution": {
          "iopub.status.busy": "2022-02-12T08:01:21.576457Z",
          "iopub.execute_input": "2022-02-12T08:01:21.577058Z",
          "iopub.status.idle": "2022-02-12T08:01:22.159898Z",
          "shell.execute_reply.started": "2022-02-12T08:01:21.577015Z",
          "shell.execute_reply": "2022-02-12T08:01:22.159202Z"
        },
        "trusted": true,
        "id": "8g9-jgFmqFB9"
      },
      "execution_count": 3,
      "outputs": []
    },
    {
      "cell_type": "code",
      "source": [
        "# Setelah itu kita akan melakukan load data menggunakan pandas dan mencoba menampilkan sampel data untuk mendapatkan inti dari informasinya.\n",
        "\n",
        "data.head()"
      ],
      "metadata": {
        "execution": {
          "iopub.status.busy": "2022-02-12T08:01:22.161608Z",
          "iopub.execute_input": "2022-02-12T08:01:22.161844Z",
          "iopub.status.idle": "2022-02-12T08:01:22.184069Z",
          "shell.execute_reply.started": "2022-02-12T08:01:22.161816Z",
          "shell.execute_reply": "2022-02-12T08:01:22.183238Z"
        },
        "trusted": true,
        "colab": {
          "base_uri": "https://localhost:8080/",
          "height": 490
        },
        "id": "d474C8ZNqFB-",
        "outputId": "7b692409-9eae-46ad-a5a4-56974f80fddc"
      },
      "execution_count": 4,
      "outputs": [
        {
          "output_type": "execute_result",
          "data": {
            "text/plain": [
              "          hotel  is_canceled  lead_time  arrival_date_year arrival_date_month  \\\n",
              "0  Resort Hotel            0        342               2015               July   \n",
              "1  Resort Hotel            0        737               2015               July   \n",
              "2  Resort Hotel            0          7               2015               July   \n",
              "3  Resort Hotel            0         13               2015               July   \n",
              "4  Resort Hotel            0         14               2015               July   \n",
              "\n",
              "   arrival_date_week_number  arrival_date_day_of_month  \\\n",
              "0                        27                          1   \n",
              "1                        27                          1   \n",
              "2                        27                          1   \n",
              "3                        27                          1   \n",
              "4                        27                          1   \n",
              "\n",
              "   stays_in_weekend_nights  stays_in_week_nights  adults  ...  customer_type  \\\n",
              "0                        0                     0       2  ...      Transient   \n",
              "1                        0                     0       2  ...      Transient   \n",
              "2                        0                     1       1  ...      Transient   \n",
              "3                        0                     1       1  ...      Transient   \n",
              "4                        0                     2       2  ...      Transient   \n",
              "\n",
              "    adr required_car_parking_spaces total_of_special_requests  \\\n",
              "0   0.0                           0                         0   \n",
              "1   0.0                           0                         0   \n",
              "2  75.0                           0                         0   \n",
              "3  75.0                           0                         0   \n",
              "4  98.0                           0                         1   \n",
              "\n",
              "  reservation_status reservation_status_date            name  \\\n",
              "0          Check-Out              2015-07-01   Ernest Barnes   \n",
              "1          Check-Out              2015-07-01    Andrea Baker   \n",
              "2          Check-Out              2015-07-02  Rebecca Parker   \n",
              "3          Check-Out              2015-07-02    Laura Murray   \n",
              "4          Check-Out              2015-07-03     Linda Hines   \n",
              "\n",
              "                         email  phone-number       credit_card  \n",
              "0  Ernest.Barnes31@outlook.com  669-792-1661  ************4322  \n",
              "1       Andrea_Baker94@aol.com  858-637-6955  ************9157  \n",
              "2   Rebecca_Parker@comcast.net  652-885-2745  ************3734  \n",
              "3            Laura_M@gmail.com  364-656-8427  ************5677  \n",
              "4           LHines@verizon.com  713-226-5883  ************5498  \n",
              "\n",
              "[5 rows x 36 columns]"
            ],
            "text/html": [
              "\n",
              "  <div id=\"df-348102c0-347b-46ea-a08b-6459aa113585\">\n",
              "    <div class=\"colab-df-container\">\n",
              "      <div>\n",
              "<style scoped>\n",
              "    .dataframe tbody tr th:only-of-type {\n",
              "        vertical-align: middle;\n",
              "    }\n",
              "\n",
              "    .dataframe tbody tr th {\n",
              "        vertical-align: top;\n",
              "    }\n",
              "\n",
              "    .dataframe thead th {\n",
              "        text-align: right;\n",
              "    }\n",
              "</style>\n",
              "<table border=\"1\" class=\"dataframe\">\n",
              "  <thead>\n",
              "    <tr style=\"text-align: right;\">\n",
              "      <th></th>\n",
              "      <th>hotel</th>\n",
              "      <th>is_canceled</th>\n",
              "      <th>lead_time</th>\n",
              "      <th>arrival_date_year</th>\n",
              "      <th>arrival_date_month</th>\n",
              "      <th>arrival_date_week_number</th>\n",
              "      <th>arrival_date_day_of_month</th>\n",
              "      <th>stays_in_weekend_nights</th>\n",
              "      <th>stays_in_week_nights</th>\n",
              "      <th>adults</th>\n",
              "      <th>...</th>\n",
              "      <th>customer_type</th>\n",
              "      <th>adr</th>\n",
              "      <th>required_car_parking_spaces</th>\n",
              "      <th>total_of_special_requests</th>\n",
              "      <th>reservation_status</th>\n",
              "      <th>reservation_status_date</th>\n",
              "      <th>name</th>\n",
              "      <th>email</th>\n",
              "      <th>phone-number</th>\n",
              "      <th>credit_card</th>\n",
              "    </tr>\n",
              "  </thead>\n",
              "  <tbody>\n",
              "    <tr>\n",
              "      <th>0</th>\n",
              "      <td>Resort Hotel</td>\n",
              "      <td>0</td>\n",
              "      <td>342</td>\n",
              "      <td>2015</td>\n",
              "      <td>July</td>\n",
              "      <td>27</td>\n",
              "      <td>1</td>\n",
              "      <td>0</td>\n",
              "      <td>0</td>\n",
              "      <td>2</td>\n",
              "      <td>...</td>\n",
              "      <td>Transient</td>\n",
              "      <td>0.0</td>\n",
              "      <td>0</td>\n",
              "      <td>0</td>\n",
              "      <td>Check-Out</td>\n",
              "      <td>2015-07-01</td>\n",
              "      <td>Ernest Barnes</td>\n",
              "      <td>Ernest.Barnes31@outlook.com</td>\n",
              "      <td>669-792-1661</td>\n",
              "      <td>************4322</td>\n",
              "    </tr>\n",
              "    <tr>\n",
              "      <th>1</th>\n",
              "      <td>Resort Hotel</td>\n",
              "      <td>0</td>\n",
              "      <td>737</td>\n",
              "      <td>2015</td>\n",
              "      <td>July</td>\n",
              "      <td>27</td>\n",
              "      <td>1</td>\n",
              "      <td>0</td>\n",
              "      <td>0</td>\n",
              "      <td>2</td>\n",
              "      <td>...</td>\n",
              "      <td>Transient</td>\n",
              "      <td>0.0</td>\n",
              "      <td>0</td>\n",
              "      <td>0</td>\n",
              "      <td>Check-Out</td>\n",
              "      <td>2015-07-01</td>\n",
              "      <td>Andrea Baker</td>\n",
              "      <td>Andrea_Baker94@aol.com</td>\n",
              "      <td>858-637-6955</td>\n",
              "      <td>************9157</td>\n",
              "    </tr>\n",
              "    <tr>\n",
              "      <th>2</th>\n",
              "      <td>Resort Hotel</td>\n",
              "      <td>0</td>\n",
              "      <td>7</td>\n",
              "      <td>2015</td>\n",
              "      <td>July</td>\n",
              "      <td>27</td>\n",
              "      <td>1</td>\n",
              "      <td>0</td>\n",
              "      <td>1</td>\n",
              "      <td>1</td>\n",
              "      <td>...</td>\n",
              "      <td>Transient</td>\n",
              "      <td>75.0</td>\n",
              "      <td>0</td>\n",
              "      <td>0</td>\n",
              "      <td>Check-Out</td>\n",
              "      <td>2015-07-02</td>\n",
              "      <td>Rebecca Parker</td>\n",
              "      <td>Rebecca_Parker@comcast.net</td>\n",
              "      <td>652-885-2745</td>\n",
              "      <td>************3734</td>\n",
              "    </tr>\n",
              "    <tr>\n",
              "      <th>3</th>\n",
              "      <td>Resort Hotel</td>\n",
              "      <td>0</td>\n",
              "      <td>13</td>\n",
              "      <td>2015</td>\n",
              "      <td>July</td>\n",
              "      <td>27</td>\n",
              "      <td>1</td>\n",
              "      <td>0</td>\n",
              "      <td>1</td>\n",
              "      <td>1</td>\n",
              "      <td>...</td>\n",
              "      <td>Transient</td>\n",
              "      <td>75.0</td>\n",
              "      <td>0</td>\n",
              "      <td>0</td>\n",
              "      <td>Check-Out</td>\n",
              "      <td>2015-07-02</td>\n",
              "      <td>Laura Murray</td>\n",
              "      <td>Laura_M@gmail.com</td>\n",
              "      <td>364-656-8427</td>\n",
              "      <td>************5677</td>\n",
              "    </tr>\n",
              "    <tr>\n",
              "      <th>4</th>\n",
              "      <td>Resort Hotel</td>\n",
              "      <td>0</td>\n",
              "      <td>14</td>\n",
              "      <td>2015</td>\n",
              "      <td>July</td>\n",
              "      <td>27</td>\n",
              "      <td>1</td>\n",
              "      <td>0</td>\n",
              "      <td>2</td>\n",
              "      <td>2</td>\n",
              "      <td>...</td>\n",
              "      <td>Transient</td>\n",
              "      <td>98.0</td>\n",
              "      <td>0</td>\n",
              "      <td>1</td>\n",
              "      <td>Check-Out</td>\n",
              "      <td>2015-07-03</td>\n",
              "      <td>Linda Hines</td>\n",
              "      <td>LHines@verizon.com</td>\n",
              "      <td>713-226-5883</td>\n",
              "      <td>************5498</td>\n",
              "    </tr>\n",
              "  </tbody>\n",
              "</table>\n",
              "<p>5 rows × 36 columns</p>\n",
              "</div>\n",
              "      <button class=\"colab-df-convert\" onclick=\"convertToInteractive('df-348102c0-347b-46ea-a08b-6459aa113585')\"\n",
              "              title=\"Convert this dataframe to an interactive table.\"\n",
              "              style=\"display:none;\">\n",
              "        \n",
              "  <svg xmlns=\"http://www.w3.org/2000/svg\" height=\"24px\"viewBox=\"0 0 24 24\"\n",
              "       width=\"24px\">\n",
              "    <path d=\"M0 0h24v24H0V0z\" fill=\"none\"/>\n",
              "    <path d=\"M18.56 5.44l.94 2.06.94-2.06 2.06-.94-2.06-.94-.94-2.06-.94 2.06-2.06.94zm-11 1L8.5 8.5l.94-2.06 2.06-.94-2.06-.94L8.5 2.5l-.94 2.06-2.06.94zm10 10l.94 2.06.94-2.06 2.06-.94-2.06-.94-.94-2.06-.94 2.06-2.06.94z\"/><path d=\"M17.41 7.96l-1.37-1.37c-.4-.4-.92-.59-1.43-.59-.52 0-1.04.2-1.43.59L10.3 9.45l-7.72 7.72c-.78.78-.78 2.05 0 2.83L4 21.41c.39.39.9.59 1.41.59.51 0 1.02-.2 1.41-.59l7.78-7.78 2.81-2.81c.8-.78.8-2.07 0-2.86zM5.41 20L4 18.59l7.72-7.72 1.47 1.35L5.41 20z\"/>\n",
              "  </svg>\n",
              "      </button>\n",
              "      \n",
              "  <style>\n",
              "    .colab-df-container {\n",
              "      display:flex;\n",
              "      flex-wrap:wrap;\n",
              "      gap: 12px;\n",
              "    }\n",
              "\n",
              "    .colab-df-convert {\n",
              "      background-color: #E8F0FE;\n",
              "      border: none;\n",
              "      border-radius: 50%;\n",
              "      cursor: pointer;\n",
              "      display: none;\n",
              "      fill: #1967D2;\n",
              "      height: 32px;\n",
              "      padding: 0 0 0 0;\n",
              "      width: 32px;\n",
              "    }\n",
              "\n",
              "    .colab-df-convert:hover {\n",
              "      background-color: #E2EBFA;\n",
              "      box-shadow: 0px 1px 2px rgba(60, 64, 67, 0.3), 0px 1px 3px 1px rgba(60, 64, 67, 0.15);\n",
              "      fill: #174EA6;\n",
              "    }\n",
              "\n",
              "    [theme=dark] .colab-df-convert {\n",
              "      background-color: #3B4455;\n",
              "      fill: #D2E3FC;\n",
              "    }\n",
              "\n",
              "    [theme=dark] .colab-df-convert:hover {\n",
              "      background-color: #434B5C;\n",
              "      box-shadow: 0px 1px 3px 1px rgba(0, 0, 0, 0.15);\n",
              "      filter: drop-shadow(0px 1px 2px rgba(0, 0, 0, 0.3));\n",
              "      fill: #FFFFFF;\n",
              "    }\n",
              "  </style>\n",
              "\n",
              "      <script>\n",
              "        const buttonEl =\n",
              "          document.querySelector('#df-348102c0-347b-46ea-a08b-6459aa113585 button.colab-df-convert');\n",
              "        buttonEl.style.display =\n",
              "          google.colab.kernel.accessAllowed ? 'block' : 'none';\n",
              "\n",
              "        async function convertToInteractive(key) {\n",
              "          const element = document.querySelector('#df-348102c0-347b-46ea-a08b-6459aa113585');\n",
              "          const dataTable =\n",
              "            await google.colab.kernel.invokeFunction('convertToInteractive',\n",
              "                                                     [key], {});\n",
              "          if (!dataTable) return;\n",
              "\n",
              "          const docLinkHtml = 'Like what you see? Visit the ' +\n",
              "            '<a target=\"_blank\" href=https://colab.research.google.com/notebooks/data_table.ipynb>data table notebook</a>'\n",
              "            + ' to learn more about interactive tables.';\n",
              "          element.innerHTML = '';\n",
              "          dataTable['output_type'] = 'display_data';\n",
              "          await google.colab.output.renderOutput(dataTable, element);\n",
              "          const docLink = document.createElement('div');\n",
              "          docLink.innerHTML = docLinkHtml;\n",
              "          element.appendChild(docLink);\n",
              "        }\n",
              "      </script>\n",
              "    </div>\n",
              "  </div>\n",
              "  "
            ]
          },
          "metadata": {},
          "execution_count": 4
        }
      ]
    },
    {
      "cell_type": "markdown",
      "source": [
        "#Penanganan data yang hilang"
      ],
      "metadata": {
        "id": "sCm-wDL7qFB_"
      }
    },
    {
      "cell_type": "code",
      "source": [
        "data.isnull().sum()"
      ],
      "metadata": {
        "execution": {
          "iopub.status.busy": "2022-02-12T08:01:22.185419Z",
          "iopub.execute_input": "2022-02-12T08:01:22.185708Z",
          "iopub.status.idle": "2022-02-12T08:01:22.280124Z",
          "shell.execute_reply.started": "2022-02-12T08:01:22.185669Z",
          "shell.execute_reply": "2022-02-12T08:01:22.279246Z"
        },
        "trusted": true,
        "colab": {
          "base_uri": "https://localhost:8080/"
        },
        "id": "uOEoklnyqFB_",
        "outputId": "dc2b1319-9684-4db7-bf49-fae699c243d1"
      },
      "execution_count": 5,
      "outputs": [
        {
          "output_type": "execute_result",
          "data": {
            "text/plain": [
              "hotel                                  0\n",
              "is_canceled                            0\n",
              "lead_time                              0\n",
              "arrival_date_year                      0\n",
              "arrival_date_month                     0\n",
              "arrival_date_week_number               0\n",
              "arrival_date_day_of_month              0\n",
              "stays_in_weekend_nights                0\n",
              "stays_in_week_nights                   0\n",
              "adults                                 0\n",
              "children                               4\n",
              "babies                                 0\n",
              "meal                                   0\n",
              "country                              488\n",
              "market_segment                         0\n",
              "distribution_channel                   0\n",
              "is_repeated_guest                      0\n",
              "previous_cancellations                 0\n",
              "previous_bookings_not_canceled         0\n",
              "reserved_room_type                     0\n",
              "assigned_room_type                     0\n",
              "booking_changes                        0\n",
              "deposit_type                           0\n",
              "agent                              16340\n",
              "company                           112593\n",
              "days_in_waiting_list                   0\n",
              "customer_type                          0\n",
              "adr                                    0\n",
              "required_car_parking_spaces            0\n",
              "total_of_special_requests              0\n",
              "reservation_status                     0\n",
              "reservation_status_date                0\n",
              "name                                   0\n",
              "email                                  0\n",
              "phone-number                           0\n",
              "credit_card                            0\n",
              "dtype: int64"
            ]
          },
          "metadata": {},
          "execution_count": 5
        }
      ]
    },
    {
      "cell_type": "code",
      "source": [
        "data.drop(['company', 'agent'], axis = 1, inplace = True)\n",
        "data.isnull().sum()"
      ],
      "metadata": {
        "execution": {
          "iopub.status.busy": "2022-02-12T08:01:22.28137Z",
          "iopub.execute_input": "2022-02-12T08:01:22.28165Z",
          "iopub.status.idle": "2022-02-12T08:01:22.394048Z",
          "shell.execute_reply.started": "2022-02-12T08:01:22.281611Z",
          "shell.execute_reply": "2022-02-12T08:01:22.393259Z"
        },
        "trusted": true,
        "colab": {
          "base_uri": "https://localhost:8080/"
        },
        "id": "VKMTPfffqFCA",
        "outputId": "5c9c7434-eda1-4d44-9682-0ad6d5ee90fa"
      },
      "execution_count": 6,
      "outputs": [
        {
          "output_type": "execute_result",
          "data": {
            "text/plain": [
              "hotel                               0\n",
              "is_canceled                         0\n",
              "lead_time                           0\n",
              "arrival_date_year                   0\n",
              "arrival_date_month                  0\n",
              "arrival_date_week_number            0\n",
              "arrival_date_day_of_month           0\n",
              "stays_in_weekend_nights             0\n",
              "stays_in_week_nights                0\n",
              "adults                              0\n",
              "children                            4\n",
              "babies                              0\n",
              "meal                                0\n",
              "country                           488\n",
              "market_segment                      0\n",
              "distribution_channel                0\n",
              "is_repeated_guest                   0\n",
              "previous_cancellations              0\n",
              "previous_bookings_not_canceled      0\n",
              "reserved_room_type                  0\n",
              "assigned_room_type                  0\n",
              "booking_changes                     0\n",
              "deposit_type                        0\n",
              "days_in_waiting_list                0\n",
              "customer_type                       0\n",
              "adr                                 0\n",
              "required_car_parking_spaces         0\n",
              "total_of_special_requests           0\n",
              "reservation_status                  0\n",
              "reservation_status_date             0\n",
              "name                                0\n",
              "email                               0\n",
              "phone-number                        0\n",
              "credit_card                         0\n",
              "dtype: int64"
            ]
          },
          "metadata": {},
          "execution_count": 6
        }
      ]
    },
    {
      "cell_type": "code",
      "source": [
        "data[data['children'].isnull()]"
      ],
      "metadata": {
        "execution": {
          "iopub.status.busy": "2022-02-12T08:01:22.395121Z",
          "iopub.execute_input": "2022-02-12T08:01:22.395359Z",
          "iopub.status.idle": "2022-02-12T08:01:22.416648Z",
          "shell.execute_reply.started": "2022-02-12T08:01:22.395332Z",
          "shell.execute_reply": "2022-02-12T08:01:22.416088Z"
        },
        "trusted": true,
        "colab": {
          "base_uri": "https://localhost:8080/",
          "height": 424
        },
        "id": "sbik4GLsqFCB",
        "outputId": "cd443a78-75aa-4f3e-b6a9-5be6f33f89cc"
      },
      "execution_count": 7,
      "outputs": [
        {
          "output_type": "execute_result",
          "data": {
            "text/plain": [
              "            hotel  is_canceled  lead_time  arrival_date_year  \\\n",
              "40600  City Hotel            1          2               2015   \n",
              "40667  City Hotel            1          1               2015   \n",
              "40679  City Hotel            1          1               2015   \n",
              "41160  City Hotel            1          8               2015   \n",
              "\n",
              "      arrival_date_month  arrival_date_week_number  arrival_date_day_of_month  \\\n",
              "40600             August                        32                          3   \n",
              "40667             August                        32                          5   \n",
              "40679             August                        32                          5   \n",
              "41160             August                        33                         13   \n",
              "\n",
              "       stays_in_weekend_nights  stays_in_week_nights  adults  ...  \\\n",
              "40600                        1                     0       2  ...   \n",
              "40667                        0                     2       2  ...   \n",
              "40679                        0                     2       3  ...   \n",
              "41160                        2                     5       2  ...   \n",
              "\n",
              "         customer_type   adr required_car_parking_spaces  \\\n",
              "40600  Transient-Party  12.0                           0   \n",
              "40667  Transient-Party  12.0                           0   \n",
              "40679  Transient-Party  18.0                           0   \n",
              "41160  Transient-Party  76.5                           0   \n",
              "\n",
              "      total_of_special_requests reservation_status reservation_status_date  \\\n",
              "40600                         1           Canceled              2015-08-01   \n",
              "40667                         1           Canceled              2015-08-04   \n",
              "40679                         2           Canceled              2015-08-04   \n",
              "41160                         1           Canceled              2015-08-09   \n",
              "\n",
              "                name                     email  phone-number       credit_card  \n",
              "40600   Craig Campos      CraigCampos@mail.com  820-622-9854  ************7219  \n",
              "40667   David Murphy  David.Murphy94@yahoo.com  231-438-6733  ************8925  \n",
              "40679   Frank Burton  Frank.Burton@comcast.net  395-084-3601  ************6190  \n",
              "41160  Jerry Roberts      JRoberts@hotmail.com  979-355-3554  ************5648  \n",
              "\n",
              "[4 rows x 34 columns]"
            ],
            "text/html": [
              "\n",
              "  <div id=\"df-b7043d1d-5a4f-4bd9-b47e-5bdb67aa4a82\">\n",
              "    <div class=\"colab-df-container\">\n",
              "      <div>\n",
              "<style scoped>\n",
              "    .dataframe tbody tr th:only-of-type {\n",
              "        vertical-align: middle;\n",
              "    }\n",
              "\n",
              "    .dataframe tbody tr th {\n",
              "        vertical-align: top;\n",
              "    }\n",
              "\n",
              "    .dataframe thead th {\n",
              "        text-align: right;\n",
              "    }\n",
              "</style>\n",
              "<table border=\"1\" class=\"dataframe\">\n",
              "  <thead>\n",
              "    <tr style=\"text-align: right;\">\n",
              "      <th></th>\n",
              "      <th>hotel</th>\n",
              "      <th>is_canceled</th>\n",
              "      <th>lead_time</th>\n",
              "      <th>arrival_date_year</th>\n",
              "      <th>arrival_date_month</th>\n",
              "      <th>arrival_date_week_number</th>\n",
              "      <th>arrival_date_day_of_month</th>\n",
              "      <th>stays_in_weekend_nights</th>\n",
              "      <th>stays_in_week_nights</th>\n",
              "      <th>adults</th>\n",
              "      <th>...</th>\n",
              "      <th>customer_type</th>\n",
              "      <th>adr</th>\n",
              "      <th>required_car_parking_spaces</th>\n",
              "      <th>total_of_special_requests</th>\n",
              "      <th>reservation_status</th>\n",
              "      <th>reservation_status_date</th>\n",
              "      <th>name</th>\n",
              "      <th>email</th>\n",
              "      <th>phone-number</th>\n",
              "      <th>credit_card</th>\n",
              "    </tr>\n",
              "  </thead>\n",
              "  <tbody>\n",
              "    <tr>\n",
              "      <th>40600</th>\n",
              "      <td>City Hotel</td>\n",
              "      <td>1</td>\n",
              "      <td>2</td>\n",
              "      <td>2015</td>\n",
              "      <td>August</td>\n",
              "      <td>32</td>\n",
              "      <td>3</td>\n",
              "      <td>1</td>\n",
              "      <td>0</td>\n",
              "      <td>2</td>\n",
              "      <td>...</td>\n",
              "      <td>Transient-Party</td>\n",
              "      <td>12.0</td>\n",
              "      <td>0</td>\n",
              "      <td>1</td>\n",
              "      <td>Canceled</td>\n",
              "      <td>2015-08-01</td>\n",
              "      <td>Craig Campos</td>\n",
              "      <td>CraigCampos@mail.com</td>\n",
              "      <td>820-622-9854</td>\n",
              "      <td>************7219</td>\n",
              "    </tr>\n",
              "    <tr>\n",
              "      <th>40667</th>\n",
              "      <td>City Hotel</td>\n",
              "      <td>1</td>\n",
              "      <td>1</td>\n",
              "      <td>2015</td>\n",
              "      <td>August</td>\n",
              "      <td>32</td>\n",
              "      <td>5</td>\n",
              "      <td>0</td>\n",
              "      <td>2</td>\n",
              "      <td>2</td>\n",
              "      <td>...</td>\n",
              "      <td>Transient-Party</td>\n",
              "      <td>12.0</td>\n",
              "      <td>0</td>\n",
              "      <td>1</td>\n",
              "      <td>Canceled</td>\n",
              "      <td>2015-08-04</td>\n",
              "      <td>David Murphy</td>\n",
              "      <td>David.Murphy94@yahoo.com</td>\n",
              "      <td>231-438-6733</td>\n",
              "      <td>************8925</td>\n",
              "    </tr>\n",
              "    <tr>\n",
              "      <th>40679</th>\n",
              "      <td>City Hotel</td>\n",
              "      <td>1</td>\n",
              "      <td>1</td>\n",
              "      <td>2015</td>\n",
              "      <td>August</td>\n",
              "      <td>32</td>\n",
              "      <td>5</td>\n",
              "      <td>0</td>\n",
              "      <td>2</td>\n",
              "      <td>3</td>\n",
              "      <td>...</td>\n",
              "      <td>Transient-Party</td>\n",
              "      <td>18.0</td>\n",
              "      <td>0</td>\n",
              "      <td>2</td>\n",
              "      <td>Canceled</td>\n",
              "      <td>2015-08-04</td>\n",
              "      <td>Frank Burton</td>\n",
              "      <td>Frank.Burton@comcast.net</td>\n",
              "      <td>395-084-3601</td>\n",
              "      <td>************6190</td>\n",
              "    </tr>\n",
              "    <tr>\n",
              "      <th>41160</th>\n",
              "      <td>City Hotel</td>\n",
              "      <td>1</td>\n",
              "      <td>8</td>\n",
              "      <td>2015</td>\n",
              "      <td>August</td>\n",
              "      <td>33</td>\n",
              "      <td>13</td>\n",
              "      <td>2</td>\n",
              "      <td>5</td>\n",
              "      <td>2</td>\n",
              "      <td>...</td>\n",
              "      <td>Transient-Party</td>\n",
              "      <td>76.5</td>\n",
              "      <td>0</td>\n",
              "      <td>1</td>\n",
              "      <td>Canceled</td>\n",
              "      <td>2015-08-09</td>\n",
              "      <td>Jerry Roberts</td>\n",
              "      <td>JRoberts@hotmail.com</td>\n",
              "      <td>979-355-3554</td>\n",
              "      <td>************5648</td>\n",
              "    </tr>\n",
              "  </tbody>\n",
              "</table>\n",
              "<p>4 rows × 34 columns</p>\n",
              "</div>\n",
              "      <button class=\"colab-df-convert\" onclick=\"convertToInteractive('df-b7043d1d-5a4f-4bd9-b47e-5bdb67aa4a82')\"\n",
              "              title=\"Convert this dataframe to an interactive table.\"\n",
              "              style=\"display:none;\">\n",
              "        \n",
              "  <svg xmlns=\"http://www.w3.org/2000/svg\" height=\"24px\"viewBox=\"0 0 24 24\"\n",
              "       width=\"24px\">\n",
              "    <path d=\"M0 0h24v24H0V0z\" fill=\"none\"/>\n",
              "    <path d=\"M18.56 5.44l.94 2.06.94-2.06 2.06-.94-2.06-.94-.94-2.06-.94 2.06-2.06.94zm-11 1L8.5 8.5l.94-2.06 2.06-.94-2.06-.94L8.5 2.5l-.94 2.06-2.06.94zm10 10l.94 2.06.94-2.06 2.06-.94-2.06-.94-.94-2.06-.94 2.06-2.06.94z\"/><path d=\"M17.41 7.96l-1.37-1.37c-.4-.4-.92-.59-1.43-.59-.52 0-1.04.2-1.43.59L10.3 9.45l-7.72 7.72c-.78.78-.78 2.05 0 2.83L4 21.41c.39.39.9.59 1.41.59.51 0 1.02-.2 1.41-.59l7.78-7.78 2.81-2.81c.8-.78.8-2.07 0-2.86zM5.41 20L4 18.59l7.72-7.72 1.47 1.35L5.41 20z\"/>\n",
              "  </svg>\n",
              "      </button>\n",
              "      \n",
              "  <style>\n",
              "    .colab-df-container {\n",
              "      display:flex;\n",
              "      flex-wrap:wrap;\n",
              "      gap: 12px;\n",
              "    }\n",
              "\n",
              "    .colab-df-convert {\n",
              "      background-color: #E8F0FE;\n",
              "      border: none;\n",
              "      border-radius: 50%;\n",
              "      cursor: pointer;\n",
              "      display: none;\n",
              "      fill: #1967D2;\n",
              "      height: 32px;\n",
              "      padding: 0 0 0 0;\n",
              "      width: 32px;\n",
              "    }\n",
              "\n",
              "    .colab-df-convert:hover {\n",
              "      background-color: #E2EBFA;\n",
              "      box-shadow: 0px 1px 2px rgba(60, 64, 67, 0.3), 0px 1px 3px 1px rgba(60, 64, 67, 0.15);\n",
              "      fill: #174EA6;\n",
              "    }\n",
              "\n",
              "    [theme=dark] .colab-df-convert {\n",
              "      background-color: #3B4455;\n",
              "      fill: #D2E3FC;\n",
              "    }\n",
              "\n",
              "    [theme=dark] .colab-df-convert:hover {\n",
              "      background-color: #434B5C;\n",
              "      box-shadow: 0px 1px 3px 1px rgba(0, 0, 0, 0.15);\n",
              "      filter: drop-shadow(0px 1px 2px rgba(0, 0, 0, 0.3));\n",
              "      fill: #FFFFFF;\n",
              "    }\n",
              "  </style>\n",
              "\n",
              "      <script>\n",
              "        const buttonEl =\n",
              "          document.querySelector('#df-b7043d1d-5a4f-4bd9-b47e-5bdb67aa4a82 button.colab-df-convert');\n",
              "        buttonEl.style.display =\n",
              "          google.colab.kernel.accessAllowed ? 'block' : 'none';\n",
              "\n",
              "        async function convertToInteractive(key) {\n",
              "          const element = document.querySelector('#df-b7043d1d-5a4f-4bd9-b47e-5bdb67aa4a82');\n",
              "          const dataTable =\n",
              "            await google.colab.kernel.invokeFunction('convertToInteractive',\n",
              "                                                     [key], {});\n",
              "          if (!dataTable) return;\n",
              "\n",
              "          const docLinkHtml = 'Like what you see? Visit the ' +\n",
              "            '<a target=\"_blank\" href=https://colab.research.google.com/notebooks/data_table.ipynb>data table notebook</a>'\n",
              "            + ' to learn more about interactive tables.';\n",
              "          element.innerHTML = '';\n",
              "          dataTable['output_type'] = 'display_data';\n",
              "          await google.colab.output.renderOutput(dataTable, element);\n",
              "          const docLink = document.createElement('div');\n",
              "          docLink.innerHTML = docLinkHtml;\n",
              "          element.appendChild(docLink);\n",
              "        }\n",
              "      </script>\n",
              "    </div>\n",
              "  </div>\n",
              "  "
            ]
          },
          "metadata": {},
          "execution_count": 7
        }
      ]
    },
    {
      "cell_type": "markdown",
      "source": [
        "#Menjatuhkan baris dengan anak-anak sebagai NAN"
      ],
      "metadata": {
        "id": "F8rhK3yQqFCC"
      }
    },
    {
      "cell_type": "code",
      "source": [
        "#data = data.dropna( axis = 0, subset = ['children'])\n",
        "\n",
        "data['children'][data['children'].isnull()] = data['children'].mean()"
      ],
      "metadata": {
        "execution": {
          "iopub.status.busy": "2022-02-12T08:01:22.417656Z",
          "iopub.execute_input": "2022-02-12T08:01:22.418108Z",
          "iopub.status.idle": "2022-02-12T08:01:22.425258Z",
          "shell.execute_reply.started": "2022-02-12T08:01:22.418077Z",
          "shell.execute_reply": "2022-02-12T08:01:22.424549Z"
        },
        "trusted": true,
        "id": "o9yx4N9HqFCD"
      },
      "execution_count": 8,
      "outputs": []
    },
    {
      "cell_type": "code",
      "source": [
        "#Jika data sudah di load, selanjutnya lakukan pengecekan apakah ada data yang tidak \n",
        "# memiliki nilai atau NaN. Lakukan pengisian terhadap nilai kosong dengan variabel 0\n",
        "\n",
        "data.isnull().sum()"
      ],
      "metadata": {
        "execution": {
          "iopub.status.busy": "2022-02-12T08:01:22.426249Z",
          "iopub.execute_input": "2022-02-12T08:01:22.426436Z",
          "iopub.status.idle": "2022-02-12T08:01:22.51937Z",
          "shell.execute_reply.started": "2022-02-12T08:01:22.426413Z",
          "shell.execute_reply": "2022-02-12T08:01:22.518602Z"
        },
        "trusted": true,
        "colab": {
          "base_uri": "https://localhost:8080/"
        },
        "id": "jpu4hMnbqFCE",
        "outputId": "9f686f70-abb8-449a-c736-efaf0c87ca07"
      },
      "execution_count": 9,
      "outputs": [
        {
          "output_type": "execute_result",
          "data": {
            "text/plain": [
              "hotel                               0\n",
              "is_canceled                         0\n",
              "lead_time                           0\n",
              "arrival_date_year                   0\n",
              "arrival_date_month                  0\n",
              "arrival_date_week_number            0\n",
              "arrival_date_day_of_month           0\n",
              "stays_in_weekend_nights             0\n",
              "stays_in_week_nights                0\n",
              "adults                              0\n",
              "children                            0\n",
              "babies                              0\n",
              "meal                                0\n",
              "country                           488\n",
              "market_segment                      0\n",
              "distribution_channel                0\n",
              "is_repeated_guest                   0\n",
              "previous_cancellations              0\n",
              "previous_bookings_not_canceled      0\n",
              "reserved_room_type                  0\n",
              "assigned_room_type                  0\n",
              "booking_changes                     0\n",
              "deposit_type                        0\n",
              "days_in_waiting_list                0\n",
              "customer_type                       0\n",
              "adr                                 0\n",
              "required_car_parking_spaces         0\n",
              "total_of_special_requests           0\n",
              "reservation_status                  0\n",
              "reservation_status_date             0\n",
              "name                                0\n",
              "email                               0\n",
              "phone-number                        0\n",
              "credit_card                         0\n",
              "dtype: int64"
            ]
          },
          "metadata": {},
          "execution_count": 9
        }
      ]
    },
    {
      "cell_type": "markdown",
      "source": [
        "#  Mengubah kategorikal menjadi angka dan menghapus kolom yang tidak berguna"
      ],
      "metadata": {
        "id": "DpfOL8MvqFCE"
      }
    },
    {
      "cell_type": "code",
      "source": [
        "data.info()"
      ],
      "metadata": {
        "execution": {
          "iopub.status.busy": "2022-02-12T08:01:22.521439Z",
          "iopub.execute_input": "2022-02-12T08:01:22.521633Z",
          "iopub.status.idle": "2022-02-12T08:01:22.615479Z",
          "shell.execute_reply.started": "2022-02-12T08:01:22.521611Z",
          "shell.execute_reply": "2022-02-12T08:01:22.614574Z"
        },
        "trusted": true,
        "colab": {
          "base_uri": "https://localhost:8080/"
        },
        "id": "HZkWJbDOqFCE",
        "outputId": "b026ef87-703c-46b9-95a6-2dea167b9642"
      },
      "execution_count": 10,
      "outputs": [
        {
          "output_type": "stream",
          "name": "stdout",
          "text": [
            "<class 'pandas.core.frame.DataFrame'>\n",
            "RangeIndex: 119390 entries, 0 to 119389\n",
            "Data columns (total 34 columns):\n",
            " #   Column                          Non-Null Count   Dtype  \n",
            "---  ------                          --------------   -----  \n",
            " 0   hotel                           119390 non-null  object \n",
            " 1   is_canceled                     119390 non-null  int64  \n",
            " 2   lead_time                       119390 non-null  int64  \n",
            " 3   arrival_date_year               119390 non-null  int64  \n",
            " 4   arrival_date_month              119390 non-null  object \n",
            " 5   arrival_date_week_number        119390 non-null  int64  \n",
            " 6   arrival_date_day_of_month       119390 non-null  int64  \n",
            " 7   stays_in_weekend_nights         119390 non-null  int64  \n",
            " 8   stays_in_week_nights            119390 non-null  int64  \n",
            " 9   adults                          119390 non-null  int64  \n",
            " 10  children                        119390 non-null  float64\n",
            " 11  babies                          119390 non-null  int64  \n",
            " 12  meal                            119390 non-null  object \n",
            " 13  country                         118902 non-null  object \n",
            " 14  market_segment                  119390 non-null  object \n",
            " 15  distribution_channel            119390 non-null  object \n",
            " 16  is_repeated_guest               119390 non-null  int64  \n",
            " 17  previous_cancellations          119390 non-null  int64  \n",
            " 18  previous_bookings_not_canceled  119390 non-null  int64  \n",
            " 19  reserved_room_type              119390 non-null  object \n",
            " 20  assigned_room_type              119390 non-null  object \n",
            " 21  booking_changes                 119390 non-null  int64  \n",
            " 22  deposit_type                    119390 non-null  object \n",
            " 23  days_in_waiting_list            119390 non-null  int64  \n",
            " 24  customer_type                   119390 non-null  object \n",
            " 25  adr                             119390 non-null  float64\n",
            " 26  required_car_parking_spaces     119390 non-null  int64  \n",
            " 27  total_of_special_requests       119390 non-null  int64  \n",
            " 28  reservation_status              119390 non-null  object \n",
            " 29  reservation_status_date         119390 non-null  object \n",
            " 30  name                            119390 non-null  object \n",
            " 31  email                           119390 non-null  object \n",
            " 32  phone-number                    119390 non-null  object \n",
            " 33  credit_card                     119390 non-null  object \n",
            "dtypes: float64(2), int64(16), object(16)\n",
            "memory usage: 31.0+ MB\n"
          ]
        }
      ]
    },
    {
      "cell_type": "code",
      "source": [
        "#data_co = data.copy()\n",
        "data.drop(['name', 'email', 'phone-number', 'credit_card', 'arrival_date_month', 'reservation_status_date', 'reservation_status' ], axis = 1, inplace= True)\n",
        "data['market_segment'] = pd.factorize(data['market_segment'])[0] + 1\n",
        "data['deposit_type'] = pd.factorize(data['deposit_type'])[0] + 1\n",
        "data['assigned_room_type'] = pd.factorize(data['assigned_room_type'])[0] + 1\n",
        "data['customer_type'] = pd.factorize(data['customer_type'])[0] + 1\n",
        "data['distribution_channel'] = pd.factorize(data['distribution_channel'])[0] + 1\n",
        "data['reserved_room_type'] = pd.factorize(data['reserved_room_type'])[0] + 1\n",
        "data['meal'] = pd.factorize(data['meal'])[0] + 1\n",
        "data['country'] = pd.factorize(data['country'])[0] + 1\n",
        "data['hotel'] = pd.factorize(data['hotel'])[0] + 1\n",
        "data.head()"
      ],
      "metadata": {
        "execution": {
          "iopub.status.busy": "2022-02-12T08:01:22.61812Z",
          "iopub.execute_input": "2022-02-12T08:01:22.618427Z",
          "iopub.status.idle": "2022-02-12T08:01:22.835334Z",
          "shell.execute_reply.started": "2022-02-12T08:01:22.618394Z",
          "shell.execute_reply": "2022-02-12T08:01:22.834547Z"
        },
        "trusted": true,
        "colab": {
          "base_uri": "https://localhost:8080/",
          "height": 300
        },
        "id": "MOzY2NvpqFCF",
        "outputId": "77f702a4-e99f-4f8b-9348-711636e73259"
      },
      "execution_count": 11,
      "outputs": [
        {
          "output_type": "execute_result",
          "data": {
            "text/plain": [
              "   hotel  is_canceled  lead_time  arrival_date_year  arrival_date_week_number  \\\n",
              "0      1            0        342               2015                        27   \n",
              "1      1            0        737               2015                        27   \n",
              "2      1            0          7               2015                        27   \n",
              "3      1            0         13               2015                        27   \n",
              "4      1            0         14               2015                        27   \n",
              "\n",
              "   arrival_date_day_of_month  stays_in_weekend_nights  stays_in_week_nights  \\\n",
              "0                          1                        0                     0   \n",
              "1                          1                        0                     0   \n",
              "2                          1                        0                     1   \n",
              "3                          1                        0                     1   \n",
              "4                          1                        0                     2   \n",
              "\n",
              "   adults  children  ...  previous_bookings_not_canceled  reserved_room_type  \\\n",
              "0       2       0.0  ...                               0                   1   \n",
              "1       2       0.0  ...                               0                   1   \n",
              "2       1       0.0  ...                               0                   2   \n",
              "3       1       0.0  ...                               0                   2   \n",
              "4       2       0.0  ...                               0                   2   \n",
              "\n",
              "   assigned_room_type  booking_changes  deposit_type  days_in_waiting_list  \\\n",
              "0                   1                3             1                     0   \n",
              "1                   1                4             1                     0   \n",
              "2                   1                0             1                     0   \n",
              "3                   2                0             1                     0   \n",
              "4                   2                0             1                     0   \n",
              "\n",
              "   customer_type   adr  required_car_parking_spaces  total_of_special_requests  \n",
              "0              1   0.0                            0                          0  \n",
              "1              1   0.0                            0                          0  \n",
              "2              1  75.0                            0                          0  \n",
              "3              1  75.0                            0                          0  \n",
              "4              1  98.0                            0                          1  \n",
              "\n",
              "[5 rows x 27 columns]"
            ],
            "text/html": [
              "\n",
              "  <div id=\"df-9343aee7-0293-449b-abdc-9c194937e81e\">\n",
              "    <div class=\"colab-df-container\">\n",
              "      <div>\n",
              "<style scoped>\n",
              "    .dataframe tbody tr th:only-of-type {\n",
              "        vertical-align: middle;\n",
              "    }\n",
              "\n",
              "    .dataframe tbody tr th {\n",
              "        vertical-align: top;\n",
              "    }\n",
              "\n",
              "    .dataframe thead th {\n",
              "        text-align: right;\n",
              "    }\n",
              "</style>\n",
              "<table border=\"1\" class=\"dataframe\">\n",
              "  <thead>\n",
              "    <tr style=\"text-align: right;\">\n",
              "      <th></th>\n",
              "      <th>hotel</th>\n",
              "      <th>is_canceled</th>\n",
              "      <th>lead_time</th>\n",
              "      <th>arrival_date_year</th>\n",
              "      <th>arrival_date_week_number</th>\n",
              "      <th>arrival_date_day_of_month</th>\n",
              "      <th>stays_in_weekend_nights</th>\n",
              "      <th>stays_in_week_nights</th>\n",
              "      <th>adults</th>\n",
              "      <th>children</th>\n",
              "      <th>...</th>\n",
              "      <th>previous_bookings_not_canceled</th>\n",
              "      <th>reserved_room_type</th>\n",
              "      <th>assigned_room_type</th>\n",
              "      <th>booking_changes</th>\n",
              "      <th>deposit_type</th>\n",
              "      <th>days_in_waiting_list</th>\n",
              "      <th>customer_type</th>\n",
              "      <th>adr</th>\n",
              "      <th>required_car_parking_spaces</th>\n",
              "      <th>total_of_special_requests</th>\n",
              "    </tr>\n",
              "  </thead>\n",
              "  <tbody>\n",
              "    <tr>\n",
              "      <th>0</th>\n",
              "      <td>1</td>\n",
              "      <td>0</td>\n",
              "      <td>342</td>\n",
              "      <td>2015</td>\n",
              "      <td>27</td>\n",
              "      <td>1</td>\n",
              "      <td>0</td>\n",
              "      <td>0</td>\n",
              "      <td>2</td>\n",
              "      <td>0.0</td>\n",
              "      <td>...</td>\n",
              "      <td>0</td>\n",
              "      <td>1</td>\n",
              "      <td>1</td>\n",
              "      <td>3</td>\n",
              "      <td>1</td>\n",
              "      <td>0</td>\n",
              "      <td>1</td>\n",
              "      <td>0.0</td>\n",
              "      <td>0</td>\n",
              "      <td>0</td>\n",
              "    </tr>\n",
              "    <tr>\n",
              "      <th>1</th>\n",
              "      <td>1</td>\n",
              "      <td>0</td>\n",
              "      <td>737</td>\n",
              "      <td>2015</td>\n",
              "      <td>27</td>\n",
              "      <td>1</td>\n",
              "      <td>0</td>\n",
              "      <td>0</td>\n",
              "      <td>2</td>\n",
              "      <td>0.0</td>\n",
              "      <td>...</td>\n",
              "      <td>0</td>\n",
              "      <td>1</td>\n",
              "      <td>1</td>\n",
              "      <td>4</td>\n",
              "      <td>1</td>\n",
              "      <td>0</td>\n",
              "      <td>1</td>\n",
              "      <td>0.0</td>\n",
              "      <td>0</td>\n",
              "      <td>0</td>\n",
              "    </tr>\n",
              "    <tr>\n",
              "      <th>2</th>\n",
              "      <td>1</td>\n",
              "      <td>0</td>\n",
              "      <td>7</td>\n",
              "      <td>2015</td>\n",
              "      <td>27</td>\n",
              "      <td>1</td>\n",
              "      <td>0</td>\n",
              "      <td>1</td>\n",
              "      <td>1</td>\n",
              "      <td>0.0</td>\n",
              "      <td>...</td>\n",
              "      <td>0</td>\n",
              "      <td>2</td>\n",
              "      <td>1</td>\n",
              "      <td>0</td>\n",
              "      <td>1</td>\n",
              "      <td>0</td>\n",
              "      <td>1</td>\n",
              "      <td>75.0</td>\n",
              "      <td>0</td>\n",
              "      <td>0</td>\n",
              "    </tr>\n",
              "    <tr>\n",
              "      <th>3</th>\n",
              "      <td>1</td>\n",
              "      <td>0</td>\n",
              "      <td>13</td>\n",
              "      <td>2015</td>\n",
              "      <td>27</td>\n",
              "      <td>1</td>\n",
              "      <td>0</td>\n",
              "      <td>1</td>\n",
              "      <td>1</td>\n",
              "      <td>0.0</td>\n",
              "      <td>...</td>\n",
              "      <td>0</td>\n",
              "      <td>2</td>\n",
              "      <td>2</td>\n",
              "      <td>0</td>\n",
              "      <td>1</td>\n",
              "      <td>0</td>\n",
              "      <td>1</td>\n",
              "      <td>75.0</td>\n",
              "      <td>0</td>\n",
              "      <td>0</td>\n",
              "    </tr>\n",
              "    <tr>\n",
              "      <th>4</th>\n",
              "      <td>1</td>\n",
              "      <td>0</td>\n",
              "      <td>14</td>\n",
              "      <td>2015</td>\n",
              "      <td>27</td>\n",
              "      <td>1</td>\n",
              "      <td>0</td>\n",
              "      <td>2</td>\n",
              "      <td>2</td>\n",
              "      <td>0.0</td>\n",
              "      <td>...</td>\n",
              "      <td>0</td>\n",
              "      <td>2</td>\n",
              "      <td>2</td>\n",
              "      <td>0</td>\n",
              "      <td>1</td>\n",
              "      <td>0</td>\n",
              "      <td>1</td>\n",
              "      <td>98.0</td>\n",
              "      <td>0</td>\n",
              "      <td>1</td>\n",
              "    </tr>\n",
              "  </tbody>\n",
              "</table>\n",
              "<p>5 rows × 27 columns</p>\n",
              "</div>\n",
              "      <button class=\"colab-df-convert\" onclick=\"convertToInteractive('df-9343aee7-0293-449b-abdc-9c194937e81e')\"\n",
              "              title=\"Convert this dataframe to an interactive table.\"\n",
              "              style=\"display:none;\">\n",
              "        \n",
              "  <svg xmlns=\"http://www.w3.org/2000/svg\" height=\"24px\"viewBox=\"0 0 24 24\"\n",
              "       width=\"24px\">\n",
              "    <path d=\"M0 0h24v24H0V0z\" fill=\"none\"/>\n",
              "    <path d=\"M18.56 5.44l.94 2.06.94-2.06 2.06-.94-2.06-.94-.94-2.06-.94 2.06-2.06.94zm-11 1L8.5 8.5l.94-2.06 2.06-.94-2.06-.94L8.5 2.5l-.94 2.06-2.06.94zm10 10l.94 2.06.94-2.06 2.06-.94-2.06-.94-.94-2.06-.94 2.06-2.06.94z\"/><path d=\"M17.41 7.96l-1.37-1.37c-.4-.4-.92-.59-1.43-.59-.52 0-1.04.2-1.43.59L10.3 9.45l-7.72 7.72c-.78.78-.78 2.05 0 2.83L4 21.41c.39.39.9.59 1.41.59.51 0 1.02-.2 1.41-.59l7.78-7.78 2.81-2.81c.8-.78.8-2.07 0-2.86zM5.41 20L4 18.59l7.72-7.72 1.47 1.35L5.41 20z\"/>\n",
              "  </svg>\n",
              "      </button>\n",
              "      \n",
              "  <style>\n",
              "    .colab-df-container {\n",
              "      display:flex;\n",
              "      flex-wrap:wrap;\n",
              "      gap: 12px;\n",
              "    }\n",
              "\n",
              "    .colab-df-convert {\n",
              "      background-color: #E8F0FE;\n",
              "      border: none;\n",
              "      border-radius: 50%;\n",
              "      cursor: pointer;\n",
              "      display: none;\n",
              "      fill: #1967D2;\n",
              "      height: 32px;\n",
              "      padding: 0 0 0 0;\n",
              "      width: 32px;\n",
              "    }\n",
              "\n",
              "    .colab-df-convert:hover {\n",
              "      background-color: #E2EBFA;\n",
              "      box-shadow: 0px 1px 2px rgba(60, 64, 67, 0.3), 0px 1px 3px 1px rgba(60, 64, 67, 0.15);\n",
              "      fill: #174EA6;\n",
              "    }\n",
              "\n",
              "    [theme=dark] .colab-df-convert {\n",
              "      background-color: #3B4455;\n",
              "      fill: #D2E3FC;\n",
              "    }\n",
              "\n",
              "    [theme=dark] .colab-df-convert:hover {\n",
              "      background-color: #434B5C;\n",
              "      box-shadow: 0px 1px 3px 1px rgba(0, 0, 0, 0.15);\n",
              "      filter: drop-shadow(0px 1px 2px rgba(0, 0, 0, 0.3));\n",
              "      fill: #FFFFFF;\n",
              "    }\n",
              "  </style>\n",
              "\n",
              "      <script>\n",
              "        const buttonEl =\n",
              "          document.querySelector('#df-9343aee7-0293-449b-abdc-9c194937e81e button.colab-df-convert');\n",
              "        buttonEl.style.display =\n",
              "          google.colab.kernel.accessAllowed ? 'block' : 'none';\n",
              "\n",
              "        async function convertToInteractive(key) {\n",
              "          const element = document.querySelector('#df-9343aee7-0293-449b-abdc-9c194937e81e');\n",
              "          const dataTable =\n",
              "            await google.colab.kernel.invokeFunction('convertToInteractive',\n",
              "                                                     [key], {});\n",
              "          if (!dataTable) return;\n",
              "\n",
              "          const docLinkHtml = 'Like what you see? Visit the ' +\n",
              "            '<a target=\"_blank\" href=https://colab.research.google.com/notebooks/data_table.ipynb>data table notebook</a>'\n",
              "            + ' to learn more about interactive tables.';\n",
              "          element.innerHTML = '';\n",
              "          dataTable['output_type'] = 'display_data';\n",
              "          await google.colab.output.renderOutput(dataTable, element);\n",
              "          const docLink = document.createElement('div');\n",
              "          docLink.innerHTML = docLinkHtml;\n",
              "          element.appendChild(docLink);\n",
              "        }\n",
              "      </script>\n",
              "    </div>\n",
              "  </div>\n",
              "  "
            ]
          },
          "metadata": {},
          "execution_count": 11
        }
      ]
    },
    {
      "cell_type": "markdown",
      "source": [
        "#Memeriksa korelasi"
      ],
      "metadata": {
        "id": "sLeOYhcfqFCG"
      }
    },
    {
      "cell_type": "code",
      "source": [
        "fig = plt.figure( figsize = ( 10,10))\n",
        "data_correlations = data.corr(method = 'pearson')\n",
        "sns.heatmap(data_correlations, cmap='Wistia', linecolor='black', linewidths=2)"
      ],
      "metadata": {
        "execution": {
          "iopub.status.busy": "2022-02-12T08:25:24.22181Z",
          "iopub.execute_input": "2022-02-12T08:25:24.222411Z",
          "iopub.status.idle": "2022-02-12T08:25:25.333117Z",
          "shell.execute_reply.started": "2022-02-12T08:25:24.22237Z",
          "shell.execute_reply": "2022-02-12T08:25:25.332372Z"
        },
        "trusted": true,
        "colab": {
          "base_uri": "https://localhost:8080/",
          "height": 766
        },
        "id": "tNWLuH9iqFCG",
        "outputId": "76402a0a-06f2-4f26-b391-3aba77f2b13f"
      },
      "execution_count": 12,
      "outputs": [
        {
          "output_type": "execute_result",
          "data": {
            "text/plain": [
              "<matplotlib.axes._subplots.AxesSubplot at 0x7f85b813f130>"
            ]
          },
          "metadata": {},
          "execution_count": 12
        },
        {
          "output_type": "display_data",
          "data": {
            "text/plain": [
              "<Figure size 720x720 with 2 Axes>"
            ],
            "image/png": "[encoded data removed]"
          },
          "metadata": {
            "needs_background": "light"
          }
        }
      ]
    },
    {
      "cell_type": "code",
      "source": [
        "data.info()"
      ],
      "metadata": {
        "execution": {
          "iopub.status.busy": "2022-02-12T08:01:22.836291Z",
          "iopub.execute_input": "2022-02-12T08:01:22.836484Z",
          "iopub.status.idle": "2022-02-12T08:01:22.854547Z",
          "shell.execute_reply.started": "2022-02-12T08:01:22.836461Z",
          "shell.execute_reply": "2022-02-12T08:01:22.853718Z"
        },
        "trusted": true,
        "colab": {
          "base_uri": "https://localhost:8080/"
        },
        "id": "YtKR8XerqFCG",
        "outputId": "359df211-7436-4a30-e1f6-b6d8766bc064"
      },
      "execution_count": 13,
      "outputs": [
        {
          "output_type": "stream",
          "name": "stdout",
          "text": [
            "<class 'pandas.core.frame.DataFrame'>\n",
            "RangeIndex: 119390 entries, 0 to 119389\n",
            "Data columns (total 27 columns):\n",
            " #   Column                          Non-Null Count   Dtype  \n",
            "---  ------                          --------------   -----  \n",
            " 0   hotel                           119390 non-null  int64  \n",
            " 1   is_canceled                     119390 non-null  int64  \n",
            " 2   lead_time                       119390 non-null  int64  \n",
            " 3   arrival_date_year               119390 non-null  int64  \n",
            " 4   arrival_date_week_number        119390 non-null  int64  \n",
            " 5   arrival_date_day_of_month       119390 non-null  int64  \n",
            " 6   stays_in_weekend_nights         119390 non-null  int64  \n",
            " 7   stays_in_week_nights            119390 non-null  int64  \n",
            " 8   adults                          119390 non-null  int64  \n",
            " 9   children                        119390 non-null  float64\n",
            " 10  babies                          119390 non-null  int64  \n",
            " 11  meal                            119390 non-null  int64  \n",
            " 12  country                         119390 non-null  int64  \n",
            " 13  market_segment                  119390 non-null  int64  \n",
            " 14  distribution_channel            119390 non-null  int64  \n",
            " 15  is_repeated_guest               119390 non-null  int64  \n",
            " 16  previous_cancellations          119390 non-null  int64  \n",
            " 17  previous_bookings_not_canceled  119390 non-null  int64  \n",
            " 18  reserved_room_type              119390 non-null  int64  \n",
            " 19  assigned_room_type              119390 non-null  int64  \n",
            " 20  booking_changes                 119390 non-null  int64  \n",
            " 21  deposit_type                    119390 non-null  int64  \n",
            " 22  days_in_waiting_list            119390 non-null  int64  \n",
            " 23  customer_type                   119390 non-null  int64  \n",
            " 24  adr                             119390 non-null  float64\n",
            " 25  required_car_parking_spaces     119390 non-null  int64  \n",
            " 26  total_of_special_requests       119390 non-null  int64  \n",
            "dtypes: float64(2), int64(25)\n",
            "memory usage: 24.6 MB\n"
          ]
        }
      ]
    },
    {
      "cell_type": "markdown",
      "source": [
        "# Membuat dataset train dan test"
      ],
      "metadata": {
        "id": "3ppb4Ka9qFCH"
      }
    },
    {
      "cell_type": "code",
      "source": [
        "# Pisahkan data menjadi 10% test dan 90% train\n",
        "y_all = data['is_canceled']\n",
        "x_all = data.drop('is_canceled', axis = 1 , inplace = False)\n",
        "x_train, x_test, y_train, y_test = train_test_split(x_all, y_all, test_size=0.1, random_state=101)"
      ],
      "metadata": {
        "execution": {
          "iopub.status.busy": "2022-02-12T08:03:51.555518Z",
          "iopub.execute_input": "2022-02-12T08:03:51.555787Z",
          "iopub.status.idle": "2022-02-12T08:03:51.600576Z",
          "shell.execute_reply.started": "2022-02-12T08:03:51.555755Z",
          "shell.execute_reply": "2022-02-12T08:03:51.599718Z"
        },
        "trusted": true,
        "id": "-Eki2ljeqFCH"
      },
      "execution_count": 41,
      "outputs": []
    },
    {
      "cell_type": "markdown",
      "source": [
        "# Penskalaan data dan menggunakan Regresi Logistik"
      ],
      "metadata": {
        "id": "MDvQ7eh1qFCI"
      }
    },
    {
      "cell_type": "code",
      "source": [
        "scaler_train= StandardScaler()\n",
        "scaler_train.fit(x_train)\n",
        "scaler_test= StandardScaler()\n",
        "scaler_test.fit(x_test)\n",
        "x_train_scaled = scaler_train.transform(x_train)\n",
        "x_test_scaled = scaler_test.transform(x_test)\n",
        "\n",
        "log_model= LogisticRegression()\n",
        "log_model.fit(x_train_scaled, y_train)"
      ],
      "metadata": {
        "execution": {
          "iopub.status.busy": "2022-02-12T08:04:47.926057Z",
          "iopub.execute_input": "2022-02-12T08:04:47.926357Z",
          "iopub.status.idle": "2022-02-12T08:04:48.965005Z",
          "shell.execute_reply.started": "2022-02-12T08:04:47.926324Z",
          "shell.execute_reply": "2022-02-12T08:04:48.964219Z"
        },
        "trusted": true,
        "colab": {
          "base_uri": "https://localhost:8080/"
        },
        "id": "Nz-IvR5OqFCI",
        "outputId": "8843d9d3-6576-4bdd-f8dc-dbec537a4f6e"
      },
      "execution_count": 42,
      "outputs": [
        {
          "output_type": "execute_result",
          "data": {
            "text/plain": [
              "LogisticRegression()"
            ]
          },
          "metadata": {},
          "execution_count": 42
        }
      ]
    },
    {
      "cell_type": "markdown",
      "source": [
        "# Ramalan (Prediction)"
      ],
      "metadata": {
        "id": "MwpNWTf8qFCI"
      }
    },
    {
      "cell_type": "code",
      "source": [
        "y_pred= log_model.predict(x_test_scaled)"
      ],
      "metadata": {
        "execution": {
          "iopub.status.busy": "2022-02-12T08:05:12.878278Z",
          "iopub.execute_input": "2022-02-12T08:05:12.878825Z",
          "iopub.status.idle": "2022-02-12T08:05:12.884354Z",
          "shell.execute_reply.started": "2022-02-12T08:05:12.878791Z",
          "shell.execute_reply": "2022-02-12T08:05:12.883526Z"
        },
        "trusted": true,
        "id": "oXvXXmCRqFCJ"
      },
      "execution_count": 43,
      "outputs": []
    },
    {
      "cell_type": "markdown",
      "source": [
        "#  Evaluasi"
      ],
      "metadata": {
        "id": "HTHRwqpIqFCJ"
      }
    },
    {
      "cell_type": "code",
      "source": [
        "accuracy_score(y_test, y_pred)"
      ],
      "metadata": {
        "execution": {
          "iopub.status.busy": "2022-02-12T08:05:30.860783Z",
          "iopub.execute_input": "2022-02-12T08:05:30.861025Z",
          "iopub.status.idle": "2022-02-12T08:05:30.868153Z",
          "shell.execute_reply.started": "2022-02-12T08:05:30.861Z",
          "shell.execute_reply": "2022-02-12T08:05:30.867341Z"
        },
        "trusted": true,
        "colab": {
          "base_uri": "https://localhost:8080/"
        },
        "id": "B3g68ZhzqFCJ",
        "outputId": "52e1087e-fc1c-40a2-aaa9-9671e2fb1766"
      },
      "execution_count": 44,
      "outputs": [
        {
          "output_type": "execute_result",
          "data": {
            "text/plain": [
              "0.7938688332356144"
            ]
          },
          "metadata": {},
          "execution_count": 44
        }
      ]
    },
    {
      "cell_type": "code",
      "source": [
        "confusion_matrix(y_test, y_pred)"
      ],
      "metadata": {
        "execution": {
          "iopub.status.busy": "2022-02-12T08:05:49.507283Z",
          "iopub.execute_input": "2022-02-12T08:05:49.507551Z",
          "iopub.status.idle": "2022-02-12T08:05:49.523563Z",
          "shell.execute_reply.started": "2022-02-12T08:05:49.507524Z",
          "shell.execute_reply": "2022-02-12T08:05:49.522848Z"
        },
        "trusted": true,
        "colab": {
          "base_uri": "https://localhost:8080/"
        },
        "id": "gdiTZ4xKqFCK",
        "outputId": "4ffb7e03-f0e2-4aa8-80a9-c57dfe6ddd12"
      },
      "execution_count": 45,
      "outputs": [
        {
          "output_type": "execute_result",
          "data": {
            "text/plain": [
              "array([[7076,  454],\n",
              "       [2007, 2402]])"
            ]
          },
          "metadata": {},
          "execution_count": 45
        }
      ]
    },
    {
      "cell_type": "code",
      "source": [
        "plot_confusion_matrix(log_model, x_test_scaled, y_test)"
      ],
      "metadata": {
        "execution": {
          "iopub.status.busy": "2022-02-12T08:06:00.96162Z",
          "iopub.execute_input": "2022-02-12T08:06:00.962255Z",
          "iopub.status.idle": "2022-02-12T08:06:01.225123Z",
          "shell.execute_reply.started": "2022-02-12T08:06:00.96218Z",
          "shell.execute_reply": "2022-02-12T08:06:01.224581Z"
        },
        "trusted": true,
        "colab": {
          "base_uri": "https://localhost:8080/",
          "height": 298
        },
        "id": "aNgWFRdQqFCK",
        "outputId": "0dda4f08-c043-4307-9934-6d091b920509"
      },
      "execution_count": 46,
      "outputs": [
        {
          "output_type": "execute_result",
          "data": {
            "text/plain": [
              "<sklearn.metrics._plot.confusion_matrix.ConfusionMatrixDisplay at 0x7f859dbe0a30>"
            ]
          },
          "metadata": {},
          "execution_count": 46
        },
        {
          "output_type": "display_data",
          "data": {
            "text/plain": [
              "<Figure size 432x288 with 2 Axes>"
            ],
            "image/png": "[encoded data removed]"
          },
          "metadata": {
            "needs_background": "light"
          }
        }
      ]
    },
    {
      "cell_type": "code",
      "source": [
        "print(classification_report(y_test, y_pred))"
      ],
      "metadata": {
        "execution": {
          "iopub.status.busy": "2022-02-12T08:06:21.521214Z",
          "iopub.execute_input": "2022-02-12T08:06:21.521934Z",
          "iopub.status.idle": "2022-02-12T08:06:21.545682Z",
          "shell.execute_reply.started": "2022-02-12T08:06:21.52189Z",
          "shell.execute_reply": "2022-02-12T08:06:21.544888Z"
        },
        "trusted": true,
        "colab": {
          "base_uri": "https://localhost:8080/"
        },
        "id": "wDhKrpevqFCK",
        "outputId": "83904a27-e8a2-4e0c-ecda-b558815d747d"
      },
      "execution_count": 47,
      "outputs": [
        {
          "output_type": "stream",
          "name": "stdout",
          "text": [
            "              precision    recall  f1-score   support\n",
            "\n",
            "           0       0.78      0.94      0.85      7530\n",
            "           1       0.84      0.54      0.66      4409\n",
            "\n",
            "    accuracy                           0.79     11939\n",
            "   macro avg       0.81      0.74      0.76     11939\n",
            "weighted avg       0.80      0.79      0.78     11939\n",
            "\n"
          ]
        }
      ]
    },
    {
      "cell_type": "code",
      "source": [
        "plot_precision_recall_curve(log_model, x_test_scaled, y_test)"
      ],
      "metadata": {
        "execution": {
          "iopub.status.busy": "2022-02-12T08:08:16.15536Z",
          "iopub.execute_input": "2022-02-12T08:08:16.155911Z",
          "iopub.status.idle": "2022-02-12T08:08:16.375984Z",
          "shell.execute_reply.started": "2022-02-12T08:08:16.155877Z",
          "shell.execute_reply": "2022-02-12T08:08:16.375469Z"
        },
        "trusted": true,
        "colab": {
          "base_uri": "https://localhost:8080/",
          "height": 296
        },
        "id": "XBRCrbBbqFCL",
        "outputId": "d44d3d6f-672d-4c49-a572-72257d477287"
      },
      "execution_count": 48,
      "outputs": [
        {
          "output_type": "execute_result",
          "data": {
            "text/plain": [
              "<sklearn.metrics._plot.precision_recall_curve.PrecisionRecallDisplay at 0x7f859dcfce20>"
            ]
          },
          "metadata": {},
          "execution_count": 48
        },
        {
          "output_type": "display_data",
          "data": {
            "text/plain": [
              "<Figure size 432x288 with 1 Axes>"
            ],
            "image/png": "[encoded data removed]"
          },
          "metadata": {
            "needs_background": "light"
          }
        }
      ]
    },
    {
      "cell_type": "code",
      "source": [
        "plot_roc_curve(log_model, x_test_scaled, y_test)"
      ],
      "metadata": {
        "execution": {
          "iopub.status.busy": "2022-02-12T08:08:39.592962Z",
          "iopub.execute_input": "2022-02-12T08:08:39.593224Z",
          "iopub.status.idle": "2022-02-12T08:08:39.816354Z",
          "shell.execute_reply.started": "2022-02-12T08:08:39.593182Z",
          "shell.execute_reply": "2022-02-12T08:08:39.815459Z"
        },
        "trusted": true,
        "colab": {
          "base_uri": "https://localhost:8080/",
          "height": 296
        },
        "id": "PWlSAMIBqFCL",
        "outputId": "97984d33-ca23-4de9-8ae6-12c9b5285e89"
      },
      "execution_count": 49,
      "outputs": [
        {
          "output_type": "execute_result",
          "data": {
            "text/plain": [
              "<sklearn.metrics._plot.roc_curve.RocCurveDisplay at 0x7f859d976ee0>"
            ]
          },
          "metadata": {},
          "execution_count": 49
        },
        {
          "output_type": "display_data",
          "data": {
            "text/plain": [
              "<Figure size 432x288 with 1 Axes>"
            ],
            "image/png": "[encoded data removed]"
          },
          "metadata": {
            "needs_background": "light"
          }
        }
      ]
    }
  ]
}